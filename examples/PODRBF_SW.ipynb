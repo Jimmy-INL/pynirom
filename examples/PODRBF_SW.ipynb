{
 "cells": [
  {
   "cell_type": "markdown",
   "metadata": {},
   "source": [
    "### NOTEBOOK for constructiong POD-RBF NIROM approximation for a shallow water example\n",
    "\n",
    "A collection of high-fidelity snapshots are generated that sufficiently capture the time-dynamics of the simulation. POD is adopted to define a reduced basis space for the high-fidelity snaphosts. RBF interpolation is adopted to approximate the evolution of the time dynamics in the reduced space spanned by the POD modes.  \n",
    "\n"
   ]
  },
  {
   "cell_type": "code",
   "execution_count": null,
   "metadata": {
    "ExecuteTime": {
     "end_time": "2021-07-05T22:07:09.029652Z",
     "start_time": "2021-07-05T22:07:07.793719Z"
    },
    "code_folding": [
     23
    ]
   },
   "outputs": [],
   "source": [
    "## Load modules\n",
    "import numpy as np\n",
    "import scipy\n",
    "from importlib import reload\n",
    "\n",
    "import os\n",
    "import gc\n",
    "from importlib import reload\n",
    "from scipy import interpolate\n",
    "import matplotlib\n",
    "import matplotlib.pyplot as plt\n",
    "from matplotlib import cm\n",
    "from matplotlib.ticker import LinearLocator, ScalarFormatter, FormatStrFormatter\n",
    "\n",
    "from matplotlib import animation\n",
    "matplotlib.rc('animation', html='html5')\n",
    "from IPython.display import display\n",
    "import matplotlib.ticker as ticker\n",
    "from matplotlib import rcParams\n",
    "from matplotlib.offsetbox import AnchoredText\n",
    "\n",
    "# Plot parameters\n",
    "plt.rc('font', family='serif')\n",
    "plt.rcParams.update({'font.size': 20,\n",
    "                     'lines.linewidth': 2,\n",
    "                     'axes.labelsize': 16, # fontsize for x and y labels (was 10)\n",
    "                     'axes.titlesize': 20,\n",
    "                     'xtick.labelsize': 16,\n",
    "                     'ytick.labelsize': 16,\n",
    "                     'legend.fontsize': 16,\n",
    "                     'axes.linewidth': 2})\n",
    "\n",
    "import itertools\n",
    "colors = itertools.cycle(['r','g','b','m','y','c'])\n",
    "markers = itertools.cycle(['p','d','o','^','s','x','D','H','v','*'])\n",
    "\n",
    "base_dir = os.getcwd()\n",
    "work_dir = os.path.join(base_dir,'../examples/')\n",
    "data_dir = os.path.join(base_dir,'../data/')\n",
    "nirom_data_dir = os.path.join(base_dir,'../data/')\n",
    "fig_dir = os.path.join(base_dir,'../figures/podrbf/')\n",
    "\n",
    "import pynirom\n",
    "from pynirom.pod import pod_utils as pod\n",
    "from pynirom.rbf import main as prb\n",
    "from pynirom.rbf import rbf as rbf\n",
    "from pynirom.rbf import plotting as pu\n",
    "from pynirom.utils import data_utils as du\n",
    "\n"
   ]
  },
  {
   "cell_type": "code",
   "execution_count": null,
   "metadata": {
    "ExecuteTime": {
     "end_time": "2021-07-05T22:07:09.265117Z",
     "start_time": "2021-07-05T22:07:09.031504Z"
    },
    "code_folding": []
   },
   "outputs": [],
   "source": [
    "## Load snapshot data\n",
    "## Please download the data files from \n",
    "## https://drive.google.com/drive/folders/1yhudg8RPvwV9SJx9CTqANEnyN55Grzem?usp=sharing\n",
    "## and place them in <data_dir>\n",
    "\n",
    "# ### San Diego problem\n",
    "# model = 'SD'\n",
    "# data = np.load(os.path.join(data_dir,'san_diego_tide_snapshots_T4.32e5_nn6311_dt25.npz'))\n",
    "# mesh = np.load(os.path.join(data_dir,'san_diego_mesh.npz'))\n",
    "\n",
    "### Red River problem\n",
    "model ='Red'\n",
    "data = np.load(os.path.join(data_dir,'red_river_inset_snapshots_T7.0e4_nn12291_dt10.npz'))\n",
    "mesh = np.load(os.path.join(data_dir,'red_river_mesh.npz'))\n",
    "\n",
    "print(\"Solution component keys are : \" + str(list(data.keys())))\n",
    "print(\"Mesh element keys are : \" + str(list(mesh.keys())))\n",
    "\n",
    "print('\\nHFM data has {0} snapshots of dimension {1} for h,u and v, spanning times [{2}, {3}]'.format(\n",
    "                    data['T'].shape[0],data['S_dep'].shape[0],\n",
    "                    data['T'][0], data['T'][-1]))\n"
   ]
  },
  {
   "cell_type": "code",
   "execution_count": null,
   "metadata": {
    "ExecuteTime": {
     "end_time": "2021-07-05T22:07:09.502877Z",
     "start_time": "2021-07-05T22:07:09.488985Z"
    },
    "code_folding": []
   },
   "outputs": [],
   "source": [
    "## Prepare training snapshots\n",
    "print('\\n-------Prepare training and testing data---------')\n",
    "soln_names = ['S_dep', 'S_vx', 'S_vy']\n",
    "comp_names={0:'S_dep',1:'S_vx',2:'S_vy'}\n",
    "Nc=3 \n",
    "nodes = mesh['nodes']; triangles = mesh['triangles']\n",
    "Nn = nodes.shape[0]; Ne = triangles.shape[0]\n",
    "\n",
    "snap_start = 100\n",
    "if model == 'SD':\n",
    "    T_end = 50*3600   ### 50 hours in seconds\n",
    "    snap_incr=4\n",
    "elif model == 'Red':\n",
    "    T_end = 3.24e4    ### 9 hours in seconds\n",
    "    snap_incr=3\n",
    "\n",
    "## --- Prepare training snapshots\n",
    "snap_train, times_train = du.prepare_data(data, soln_names, start_skip=snap_start, T_end=T_end, incr=snap_incr)\n",
    "print('Using {0} training snapshots for time interval [{1:.3f},{2:.3f}] hours'.format(times_train.shape[0],\n",
    "                                        times_train[0]/3600, times_train[-1]/3600))\n",
    "Nt_b = times_train.size\n",
    "\n",
    "\n",
    "## ------- Prepare testing snapshots ----------------\n",
    "pred_incr = snap_incr - 2\n",
    "snap_pred_true, times_online = du.prepare_data(data, soln_names, start_skip=snap_start, T_end=T_end, \n",
    "                                                    incr=pred_incr)\n",
    "print('Using {0} testing snapshots for time interval [{1:.3f},{2:.3f}] hours'.format(times_online.shape[0],\n",
    "                                        times_online[0]/3600, times_online[-1]/3600))\n",
    "Nt_online=times_online.size\n",
    "\n",
    "## ------- Save full HFM data without spinup time -----\n",
    "snap_data, times_offline = du.prepare_data(data, soln_names, start_skip=snap_start,)\n",
    "\n",
    "\n",
    "\n",
    "\n",
    "del mesh\n",
    "gc.collect()"
   ]
  },
  {
   "cell_type": "code",
   "execution_count": null,
   "metadata": {
    "ExecuteTime": {
     "end_time": "2021-03-17T05:58:17.239206Z",
     "start_time": "2021-03-17T05:58:17.214346Z"
    }
   },
   "outputs": [],
   "source": [
    "## Instantiate the POD-RBF class\n",
    "\n",
    "if model == 'SD':\n",
    "    trunc_lvl = 0.9999995\n",
    "    eps = 0.01\n",
    "    \n",
    "elif model == 'Red':\n",
    "    trunc_lvl = 0.99\n",
    "    eps = 0.05\n",
    "    \n",
    "PRB = prb.PODRBFBase(trunc = trunc_lvl)"
   ]
  },
  {
   "cell_type": "code",
   "execution_count": null,
   "metadata": {
    "ExecuteTime": {
     "end_time": "2021-03-17T05:58:29.896784Z",
     "start_time": "2021-03-17T05:58:17.366963Z"
    },
    "code_folding": []
   },
   "outputs": [],
   "source": [
    "## Compute the POD basis for the space of snapshots\n",
    "Phi, Sigma, Z_train = PRB.compute_pod_basis(snap_train, times_train)\n",
    "dzdt_train = PRB._dzdt_train\n",
    "\n",
    "## Compute the RBF approximation of the time derivative of\n",
    "## POD modal coefficients\n",
    "\n",
    "if model == 'Red':\n",
    "    rbf_incr = snap_incr+2\n",
    "elif model == 'SD':\n",
    "    rbf_incr = snap_incr-1\n",
    "\n",
    "S_rbf, times_rbf = du.prepare_data(data, soln_names, start_skip=snap_start, T_end=T_end, \n",
    "                                                    incr=rbf_incr)\n",
    "\n",
    "Z_rbf = pod.project_onto_basis(S_rbf,PRB.basis, PRB._S_mean)\n",
    "A_rbf, rbf_centers_rbf, rbf_coeff_rbf = PRB.fit_rbf(Z_rbf, times_rbf, kernel='matern',eps=eps)\n",
    "\n",
    "del data\n",
    "gc.collect()"
   ]
  },
  {
   "cell_type": "code",
   "execution_count": null,
   "metadata": {
    "ExecuteTime": {
     "end_time": "2021-03-17T05:58:34.054199Z",
     "start_time": "2021-03-17T05:58:30.316133Z"
    },
    "code_folding": []
   },
   "outputs": [],
   "source": [
    "## Evaluate NIROM online at queried time points\n",
    "\n",
    "%time uh, zh = PRB.predict_time(times_online)\n"
   ]
  },
  {
   "cell_type": "code",
   "execution_count": null,
   "metadata": {},
   "outputs": [],
   "source": [
    "def set_label(key):\n",
    "    if key == 'S_vx':\n",
    "        ky = 'u'\n",
    "    elif key == 'S_vy':\n",
    "        ky = 'v'\n",
    "    elif key == 'S_dep':\n",
    "        ky = 'h'\n",
    "    return ky"
   ]
  },
  {
   "cell_type": "markdown",
   "metadata": {},
   "source": [
    "### Visualize domain and ROM results"
   ]
  },
  {
   "cell_type": "code",
   "execution_count": null,
   "metadata": {
    "ExecuteTime": {
     "end_time": "2021-03-17T05:58:34.592655Z",
     "start_time": "2021-03-17T05:58:34.256365Z"
    },
    "code_folding": []
   },
   "outputs": [],
   "source": [
    "## --- Visualize the singular values\n",
    "\n",
    "pu.plot_sing_val(Sigma)\n",
    "\n",
    "# os.chdir(fig_dir)\n",
    "# plt.savefig('%s_sing_value.png'%model,dpi=300,bbox_inches='tight')"
   ]
  },
  {
   "cell_type": "code",
   "execution_count": null,
   "metadata": {
    "ExecuteTime": {
     "end_time": "2021-03-17T05:58:35.001995Z",
     "start_time": "2021-03-17T05:58:34.793834Z"
    },
    "code_folding": [
     0
    ]
   },
   "outputs": [],
   "source": [
    "## --- Visualize l2-norm of time derivative of modal coefficients\n",
    "\n",
    "dZdata_norm = {}\n",
    "for ii,key in enumerate(soln_names):\n",
    "    dZdata_norm[key] = np.linalg.norm(dzdt_train[key],axis=0);\n",
    "\n",
    "fig = plt.figure(figsize=(12,3))\n",
    "ky = soln_names[1]; ky1 = soln_names[2]; ky2 = soln_names[0]\n",
    "t_indx = times_train[:-1]/3600\n",
    "plt.plot(t_indx[:],(dZdata_norm[ky][:]),'r-o', markersize=8,markevery=100,label='$u_x$',linewidth=2)\n",
    "plt.plot(t_indx[:],(dZdata_norm[ky1][:]),'g-D', markersize=8,markevery=100,label='$u_y$',linewidth=2)\n",
    "plt.plot(t_indx[:],(dZdata_norm[ky2][:]),'b-^', markersize=8,markevery=100,label='$p$',linewidth=2)\n",
    "\n",
    "ax = plt.gca()\n",
    "ax.xaxis.set_tick_params(labelsize=16)\n",
    "ax.yaxis.set_tick_params(labelsize=16)\n",
    "lg = plt.legend(fontsize=16,ncol=3,loc='upper right') \n",
    "plt.xlabel('Time (hours)',fontsize=16)\n"
   ]
  },
  {
   "cell_type": "code",
   "execution_count": null,
   "metadata": {},
   "outputs": [],
   "source": [
    "## Compute spatial RMS/Relative error\n",
    "    \n",
    "rms_err = PRB.compute_error(snap_pred_true, uh, soln_names, metric='rms')"
   ]
  },
  {
   "cell_type": "code",
   "execution_count": null,
   "metadata": {
    "ExecuteTime": {
     "end_time": "2021-03-17T05:58:35.847444Z",
     "start_time": "2021-03-17T05:58:35.204840Z"
    },
    "code_folding": [
     0
    ]
   },
   "outputs": [],
   "source": [
    "## --- Compare the HFM and NIROM solution\n",
    "\n",
    "key = 'S_vx'; iplot = 1200\n",
    "iplot_true = np.argmin(np.abs(times_offline-times_online[iplot]))\n",
    "\n",
    "fig = plt.figure(figsize=(16,6))\n",
    "urom = uh[key][:,iplot]\n",
    "usnap = snap_data[key][:,iplot_true]\n",
    "print(\"comparing NIROM solution at t = {1:.2f} hrs and fine-grid solution at t = {0:.2f} hrs\".format(\n",
    "                                            times_offline[iplot_true]/3600, times_online[iplot]/3600))\n",
    "\n",
    "ax1 = plt.subplot(1,2,1); ax1.axis('off')\n",
    "surf1, boundaries_interp = pu.viz_sol(urom,nodes,triangles)\n",
    "ax1.set_title(\"NIROM solution at t = %.2f hrs\\n $%1.5f<\\mathbf{%s}<%1.5f$\"%(times_online[iplot]/3600,\n",
    "                                                            np.amin(urom),set_label(key),\n",
    "                                                             np.amax(urom)),fontsize=16)\n",
    "plt.axis('off')\n",
    "plt.colorbar(surf1, shrink=0.8,aspect=20, pad = 0.03)\n",
    "\n",
    "\n",
    "ax2 = plt.subplot(1,2,2); ax2.axis('off')\n",
    "surf2, boundaries_true = pu.viz_sol(usnap,nodes,triangles)\n",
    "ax2.set_title(\"HFM solution at t = %.2f hrs\\n $%1.5f<\\mathbf{%s}<%1.5f$\"%(times_online[iplot]/3600, \n",
    "                                                            np.amin(usnap),set_label(key),\n",
    "                                                             np.amax(usnap)),fontsize=16)\n",
    "plt.axis('off')\n",
    "plt.colorbar(surf2, shrink=0.8,aspect=20, pad = 0.03)\n",
    "\n"
   ]
  },
  {
   "cell_type": "code",
   "execution_count": null,
   "metadata": {},
   "outputs": [],
   "source": [
    "### Visualize spatial RMS/Relative errors for all solution components\n",
    "\n",
    "x_inx = times_online/3600\n",
    "tr_mark = np.searchsorted(times_online, times_train[-1])\n",
    "\n",
    "vstring = {}\n",
    "for key in soln_names:\n",
    "    vstring[key] = set_label(key)\n",
    "    \n",
    "pu.plot_RBF_err(rms_err, x_inx, soln_names, vstring, unit='hours', metric = 'rms' )\n",
    "\n",
    "# os.chdir(fig_dir)\n",
    "# plt.savefig('%s_rbf_rms_tskip%d_oskip%d.pdf'%(model,snap_incr,pred_incr), bbox_inches='tight')"
   ]
  },
  {
   "cell_type": "code",
   "execution_count": null,
   "metadata": {
    "ExecuteTime": {
     "end_time": "2021-02-28T07:24:55.680614Z",
     "start_time": "2021-02-28T07:24:33.177309Z"
    }
   },
   "outputs": [],
   "source": [
    "## Save the NIROM solutions to disk\n",
    "save_nirom_solutions = False\n",
    "\n",
    "if save_nirom_solutions:\n",
    "    os.chdir(nirom_data_dir)\n",
    "    np.savez_compressed('%s_online_rbf'%model,S_dep=uh['S_dep'],S_vx = uh['S_vx'], S_vy = uh['S_vy'],\n",
    "                                            zS_dep=zh['S_dep'],zS_vx = zh['S_vx'], zS_vy = zh['S_vy'],\n",
    "                                            time=times_online)\n",
    "\n",
    "    os.chdir(work_dir)"
   ]
  },
  {
   "cell_type": "code",
   "execution_count": null,
   "metadata": {
    "ExecuteTime": {
     "end_time": "2021-02-28T07:24:55.688936Z",
     "start_time": "2021-02-28T07:24:55.684337Z"
    }
   },
   "outputs": [],
   "source": [
    "## Saving the ROM model\n",
    "# os.chdir(data_dir)\n",
    "# filename='podrbf_rom_sandiego'\n",
    "# filename='podrbf_rom_redriver'\n",
    "# PRB.save_to_disk(filename,PRB)"
   ]
  }
 ],
 "metadata": {
  "kernelspec": {
   "display_name": "Python 3 (ipykernel)",
   "language": "python",
   "name": "python3"
  },
  "language_info": {
   "codemirror_mode": {
    "name": "ipython",
    "version": 3
   },
   "file_extension": ".py",
   "mimetype": "text/x-python",
   "name": "python",
   "nbconvert_exporter": "python",
   "pygments_lexer": "ipython3",
   "version": "3.8.0"
  },
  "latex_envs": {
   "LaTeX_envs_menu_present": true,
   "autoclose": false,
   "autocomplete": true,
   "bibliofile": "biblio.bib",
   "cite_by": "apalike",
   "current_citInitial": 1,
   "eqLabelWithNumbers": true,
   "eqNumInitial": 1,
   "hotkeys": {
    "equation": "Ctrl-E",
    "itemize": "Ctrl-I"
   },
   "labels_anchors": false,
   "latex_user_defs": false,
   "report_style_numbering": false,
   "user_envs_cfg": false
  },
  "varInspector": {
   "cols": {
    "lenName": 16,
    "lenType": 16,
    "lenVar": 40
   },
   "kernels_config": {
    "python": {
     "delete_cmd_postfix": "",
     "delete_cmd_prefix": "del ",
     "library": "var_list.py",
     "varRefreshCmd": "print(var_dic_list())"
    },
    "r": {
     "delete_cmd_postfix": ") ",
     "delete_cmd_prefix": "rm(",
     "library": "var_list.r",
     "varRefreshCmd": "cat(var_dic_list()) "
    }
   },
   "types_to_exclude": [
    "module",
    "function",
    "builtin_function_or_method",
    "instance",
    "_Feature"
   ],
   "window_display": false
  }
 },
 "nbformat": 4,
 "nbformat_minor": 2
}
