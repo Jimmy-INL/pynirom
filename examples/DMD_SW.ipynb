{
 "cells": [
  {
   "cell_type": "markdown",
   "metadata": {},
   "source": [
    "### NOTEBOOK for constructiong DMD NIROM approximation for a shallow water example\n",
    "\n",
    "A collection of high-fidelity snapshots are generated that sufficiently capture the time-dynamics of the simulation. DMD is adopted to both construct a latent space representation of the high-fidelity temporal snapshots and to approximate the evolution of the time dynamics.  \n",
    "\n",
    "\n"
   ]
  },
  {
   "cell_type": "code",
   "execution_count": null,
   "metadata": {
    "ExecuteTime": {
     "end_time": "2021-03-23T05:23:33.752767Z",
     "start_time": "2021-03-23T05:23:33.208724Z"
    },
    "code_folding": [
     31
    ]
   },
   "outputs": [],
   "source": [
    "## Load all modules\n",
    "%matplotlib inline\n",
    "import numpy as np\n",
    "import scipy\n",
    "from scipy import linalg\n",
    "import matplotlib.pyplot as plt\n",
    "\n",
    "import scipy.interpolate as interpolate\n",
    "import bisect\n",
    "import gc\n",
    "import os,sys\n",
    "from importlib import reload\n",
    "\n",
    "# Plot parameters\n",
    "plt.rc('font', family='serif')\n",
    "plt.rcParams.update({'font.size': 20,\n",
    "                     'lines.linewidth': 2,\n",
    "                     'axes.labelsize': 16, # fontsize for x and y labels (was 10)\n",
    "                     'axes.titlesize': 20,\n",
    "                     'xtick.labelsize': 16,\n",
    "                     'ytick.labelsize': 16,\n",
    "                     'legend.fontsize': 16,\n",
    "                     'axes.linewidth': 2})\n",
    "\n",
    "basedir = os.getcwd()\n",
    "workdir = os.path.join(basedir,'../examples/')\n",
    "datadir = os.path.join(basedir,'../data/')\n",
    "nirom_data_dir = os.path.join(basedir,'../data/')\n",
    "figdir = os.path.join(basedir,'../figures/dmd/')\n",
    "\n",
    "\n",
    "import pynirom\n",
    "from pynirom.dmd import main as dmd\n",
    "from pynirom.dmd import plotting as pu\n",
    "from pynirom.utils import data_utils as du\n"
   ]
  },
  {
   "cell_type": "code",
   "execution_count": null,
   "metadata": {
    "ExecuteTime": {
     "end_time": "2021-03-23T05:23:35.459323Z",
     "start_time": "2021-03-23T05:23:35.316624Z"
    },
    "code_folding": []
   },
   "outputs": [],
   "source": [
    "## Load snapshot data\n",
    "## Please download the data files from \n",
    "## https://drive.google.com/drive/folders/1yhudg8RPvwV9SJx9CTqANEnyN55Grzem?usp=sharing\n",
    "## and place them in <data_dir>\n",
    "\n",
    "# ### San Diego problem\n",
    "model = 'SD'\n",
    "data = np.load(os.path.join(datadir,'san_diego_tide_snapshots_T4.32e5_nn6311_dt25.npz'))\n",
    "mesh = np.load(os.path.join(datadir,'san_diego_mesh.npz'))\n",
    "\n",
    "# ### Red River problem\n",
    "# model ='RED'\n",
    "# data = np.load(os.path.join(datadir,'red_river_inset_snapshots_T7.0e4_nn12291_dt10.npz'))\n",
    "# mesh = np.load(os.path.join(datadir,'red_river_mesh.npz'))\n",
    "\n",
    "print(\"Solution component keys are : \" + str(list(data.keys())))\n",
    "print(\"Mesh element keys are : \" + str(list(mesh.keys())))\n",
    "\n",
    "print('\\nHFM data has {0} snapshots of dimension {1} for h,u and v, spanning times [{2}, {3}]'.format(\n",
    "                    data['T'].shape[0],data['S_dep'].shape[0],\n",
    "                    data['T'][0], data['T'][-1]))\n",
    "\n"
   ]
  },
  {
   "cell_type": "code",
   "execution_count": null,
   "metadata": {
    "ExecuteTime": {
     "end_time": "2021-03-17T01:42:18.758673Z",
     "start_time": "2021-03-17T01:42:06.778611Z"
    },
    "code_folding": [
     9,
     11,
     26,
     28
    ]
   },
   "outputs": [],
   "source": [
    "## Prepare training and testing snapshots\n",
    "print('\\n-------Prepare training and testing data---------')\n",
    "soln_names = ['S_dep', 'S_vx', 'S_vy']\n",
    "comp_names={0:'S_dep',1:'S_vx',2:'S_vy'}\n",
    "Nc=3 \n",
    "nodes = mesh['nodes']; triangles = mesh['triangles']\n",
    "Nn = nodes.shape[0]; Ne = triangles.shape[0]\n",
    "snap_start = 100\n",
    "\n",
    "## ------- Save full HFM data without spinup time -----\n",
    "snap_data, times_offline = du.prepare_data(data, soln_names, start_skip=snap_start,)\n",
    "\n",
    "\n",
    "## ----- Prepare training snapshots\n",
    "if model == 'SD':\n",
    "    T_end = 50*3600   ### 50 hours in seconds\n",
    "    snap_incr=4       ### number of steps to skip in selecting training snapshots for SVD basis\n",
    "elif model == 'RED':\n",
    "    T_end = 3.24e4    ### 9 hours in seconds\n",
    "    snap_incr=3       ### number of steps to skip in selecting training snapshots for SVD basis\n",
    "\n",
    "snap_train, times_train = du.prepare_data(data, soln_names, start_skip=snap_start, T_end=T_end, incr=snap_incr)\n",
    "print('Using {0} training snapshots for time interval [{1:.3f},{2:.3f}] hours'.format(times_train.shape[0],\n",
    "                                        times_train[0]/3600, times_train[-1]/3600))\n",
    "\n",
    "\n",
    "DT = (times_offline[1:] - times_offline[:-1]).mean()\n",
    "Nt = times_offline.size\n",
    "## ---- Normalize the time axis. Required for DMD fitting\n",
    "tscale = DT*snap_incr                  ### Scaling for DMD\n",
    "times_offline = times_offline/tscale   ## Snapshots DT = 1\n",
    "times_train=times_train/tscale\n",
    "Nt_b = times_train.size\n",
    "\n",
    "\n",
    "## ------- Prepare testing snapshots ----------------\n",
    "pred_incr = snap_incr - 2\n",
    "snap_pred_true, times_online = du.prepare_data(data, soln_names, start_skip=snap_start, T_end=T_end, \n",
    "                                                    incr=pred_incr)\n",
    "print('Using {0} testing snapshots for time interval [{1:.3f},{2:.3f}] hours'.format(times_online.shape[0],\n",
    "                                        times_online[0]/3600, times_online[-1]/3600))\n",
    "times_online = times_online/tscale\n",
    "Nt_online=times_online.size\n",
    "\n",
    "\n",
    "\n",
    "del data\n",
    "del mesh\n",
    "gc.collect()"
   ]
  },
  {
   "cell_type": "code",
   "execution_count": null,
   "metadata": {
    "ExecuteTime": {
     "end_time": "2021-03-17T01:44:01.737741Z",
     "start_time": "2021-03-17T01:44:01.494379Z"
    }
   },
   "outputs": [],
   "source": [
    "### Set up the snapshot data matrices X and Y describing the DMD flow map : Y = AX\n",
    "## For multicomponent systems such Navier Stokes equations (p,u,v),\n",
    "## the snapshot matrix can be created either by vertically stacking\n",
    "## solution variables one after another, or by interleaving the\n",
    "## solution variables at every spatial node.\n",
    "## In each case, the snapshot matrix has dimensions\n",
    "## (3 * DOF) X (Time Steps)\n",
    "\n",
    "interleaved_snapshots = True\n",
    "X0 = np.zeros((Nc*Nn,Nt_b),'d')\n",
    "\n",
    "for ivar,key in enumerate(soln_names):   \n",
    "    if interleaved_snapshots:    ### saving in an interleaved fashion\n",
    "        X0[ivar::Nc,:] = snap_train[key][:,:]\n",
    "    else:                        ### saving in a sequential fashion\n",
    "        X0[ivar*Nn:(ivar+1)*Nn,:] = snap_train[key][:,:]\n",
    "\n",
    "        \n",
    "X  = X0[:,:-1]\n",
    "Xp = X0[:,1:]"
   ]
  },
  {
   "cell_type": "code",
   "execution_count": null,
   "metadata": {},
   "outputs": [],
   "source": [
    "## Create a snapshot matrix for the true solution at \n",
    "## testing time points, following the chosen \n",
    "## stacking convention\n",
    "\n",
    "X_true = np.zeros((Nc*Nn,Nt_online),'d')\n",
    "\n",
    "for ivar,key in enumerate(soln_names):\n",
    "    ### saving in an interleaved fashion\n",
    "    if interleaved_snapshots:    \n",
    "        X_true[ivar::Nc,:] = snap_pred_true[key] \n",
    "    ### saving in a sequential fashion\n",
    "    else:                        \n",
    "        X_true[ivar*Nn:(ivar+1)*Nn,:] = snap_pred_true[key]\n"
   ]
  },
  {
   "cell_type": "code",
   "execution_count": null,
   "metadata": {
    "ExecuteTime": {
     "end_time": "2021-03-17T01:46:48.735766Z",
     "start_time": "2021-03-17T01:46:48.732687Z"
    }
   },
   "outputs": [],
   "source": [
    "def var_string(ky):\n",
    "    if ky == 'S_dep':\n",
    "        md = 'h'\n",
    "    elif ky == 'S_vx':\n",
    "        md = 'u'\n",
    "    elif ky == 'S_vy':\n",
    "        md = 'v'\n",
    "    return md"
   ]
  },
  {
   "cell_type": "code",
   "execution_count": null,
   "metadata": {
    "ExecuteTime": {
     "end_time": "2021-03-17T01:46:48.179081Z",
     "start_time": "2021-03-17T01:45:34.581070Z"
    }
   },
   "outputs": [],
   "source": [
    "### Compute the DMD modes\n",
    "## Using a predetermined fixed number of truncation modes for SVD\n",
    "\n",
    "if model == 'RED':\n",
    "    r = 315 #30\n",
    "elif model == 'SD':\n",
    "    r = 115 #250\n",
    "t0,dt = times_train[0], times_train[1] - times_train[0]\n",
    "\n",
    "DMD=dmd.DMDBase(rank=r)\n",
    "Phi,D,X_app,td,pod_Sigma = DMD.fit_basis(X0, dt_fit = dt, t0_fit=times_train[0])\n",
    "\n",
    "Xdmd = np.zeros((Nn*Nc,Nt_online),'d')\n",
    "for inx,tn in enumerate(times_online):\n",
    "    Xdmd[:,inx] = DMD.predict(tn)\n",
    "print(\"DMD snapshots computed for %d steps between t = [%.3f, %.3f]\"%(Nt_online, \n",
    "                                    times_online[0]*tscale, times_online[-1]*tscale))\n"
   ]
  },
  {
   "cell_type": "code",
   "execution_count": null,
   "metadata": {
    "ExecuteTime": {
     "end_time": "2021-03-17T01:46:48.617143Z",
     "start_time": "2021-03-17T01:46:48.285572Z"
    }
   },
   "outputs": [],
   "source": [
    "### Look at the singular value decay\n",
    "pu.plot_sing_val(pod_Sigma[:r],6,4)"
   ]
  },
  {
   "cell_type": "code",
   "execution_count": null,
   "metadata": {},
   "outputs": [],
   "source": [
    "## Visualize distribution of DMD e-values\n",
    "pu.plot_DMD_eval(D,r)\n",
    "\n",
    "print('Total distance between eigenvalues and unit circle: {}'.format(\n",
    "    np.sum(np.abs(D.real**2 + D.imag**2 - 1)) ) )\n"
   ]
  },
  {
   "cell_type": "code",
   "execution_count": null,
   "metadata": {
    "ExecuteTime": {
     "end_time": "2021-03-17T01:46:48.863195Z",
     "start_time": "2021-03-17T01:46:48.855742Z"
    },
    "code_folding": []
   },
   "outputs": [],
   "source": [
    "def plot_dmd_soln(X, Xdmd, Nc, Nt_plot, nodes, elems, times_online, comp_names, seed, flag = True): \n",
    "    \n",
    "    np.random.seed(seed)\n",
    "    itime = 1200 #np.random.randint(0,Nt_plot)\n",
    "    ivar  = 1 #np.random.randint(1,Nc)\n",
    "\n",
    "    if flag:     ### for interleaved snapshots\n",
    "        tmp      = Xdmd[ivar::Nc,itime]\n",
    "        tmp_snap = X[ivar::Nc,itime]\n",
    "    else:\n",
    "        tmp      = Xdmd[ivar*Nn:(ivar+1)*Nn,itime]\n",
    "        tmp_snap = X[ivar*Nn:(ivar+1)*Nn,itime]\n",
    "\n",
    "    ky = comp_names[ivar]\n",
    "    tn   = times_online[itime]*tscale\n",
    "    \n",
    "    fig  = plt.figure(figsize=(18,15));\n",
    "    ax1   = fig.add_subplot(2, 2, 1)\n",
    "    surf1 = ax1.tripcolor(nodes[:,0], nodes[:,1],elems, tmp, cmap=plt.cm.jet)\n",
    "    ax1.set_title('DMD solution: {0} at t={1:1.2f} hrs,\\n {0} range = [{2:5.3g},{3:4.2g}]'.format(var_string(ky),\n",
    "                                                                        tn/3600,\n",
    "                                                                        tmp.min(),tmp.max()),fontsize=16)\n",
    "    plt.axis('off')\n",
    "    plt.colorbar(surf1, shrink=0.8,aspect=20, pad = 0.03)\n",
    "\n",
    "    ax2   = fig.add_subplot(2, 2, 2)\n",
    "    surf2 = ax2.tripcolor(nodes[:,0], nodes[:,1],elems, tmp_snap, cmap=plt.cm.jet)\n",
    "    ax2.set_title('HFM solution: {0} at t={1:1.2f} hrs,\\n {0} range = [{2:5.3g},{3:4.2g}]'.format(var_string(ky),\n",
    "                                                                    tn/3600,\n",
    "                                                                    tmp_snap.min(),tmp_snap.max()),fontsize=16)\n",
    "    plt.axis('off')\n",
    "    plt.colorbar(surf2, shrink=0.8,aspect=20, pad = 0.03)\n",
    "\n",
    "    err = tmp-tmp_snap\n",
    "    ax3   = fig.add_subplot(2, 2, 3)\n",
    "    surf3 = ax3.tripcolor(nodes[:,0], nodes[:,1],elems, err, cmap=plt.cm.Spectral)\n",
    "    ax3.set_title('DMD error: {0} at t={1:1.2f} hrs,\\n error range = [{2:5.3g},{3:4.2g}]'.format(var_string(ky),\n",
    "                                                                    tn/3600,\n",
    "                                                                    err.min(),err.max()),fontsize=16)\n",
    "    plt.axis('off')\n",
    "    plt.colorbar(surf3,shrink=0.8,aspect=20, pad = 0.03)\n",
    "    \n",
    "#     fig.tight_layout()\n",
    "    return tn, ky\n"
   ]
  },
  {
   "cell_type": "code",
   "execution_count": null,
   "metadata": {
    "ExecuteTime": {
     "end_time": "2021-03-17T01:46:49.852364Z",
     "start_time": "2021-03-17T01:46:48.981144Z"
    }
   },
   "outputs": [],
   "source": [
    "Nt_plot = np.searchsorted(times_online, times_train[-1]); \n",
    "tn,ky = plot_dmd_soln(X_true, Xdmd, Nc, Nt_plot, nodes, triangles, times_online, comp_names, seed=1234,flag = True)\n",
    "\n",
    "# os.chdir(figdir)\n",
    "# plt.savefig('%s_dmd_%s_t%.2f_tskip%d_oskip%d_r%d.pdf'%(model,ky,tn,snap_incr,pred_incr,r), bbox_inches='tight')\n"
   ]
  },
  {
   "cell_type": "code",
   "execution_count": null,
   "metadata": {
    "ExecuteTime": {
     "end_time": "2021-03-17T01:46:59.503790Z",
     "start_time": "2021-03-17T01:46:59.495918Z"
    },
    "code_folding": [
     0
    ]
   },
   "outputs": [],
   "source": [
    "def plot_vel_mag(X, Xdmd, Nc, Nt_plot, nodes, elems, times_online, flag = True):\n",
    "    '''\n",
    "    Plot the magnitude of the velocity for the true solution, \n",
    "    the DMD solution and the error\n",
    "    '''\n",
    "    import math\n",
    "    from math import hypot\n",
    "    \n",
    "    np.random.seed(1234)\n",
    "    itime = 1200 #np.random.randint(0,Nt_plot)\n",
    "\n",
    "    if flag:   ## snapshots are stored in an interleaved fashion\n",
    "        tmp      = np.sqrt(Xdmd[0::Nc,itime]**2 + Xdmd[1::Nc,itime]**2)\n",
    "        tmp_snap = np.sqrt(X[0::Nc,itime]**2 + X[1::Nc,itime]**2)\n",
    "    else:\n",
    "        tmp      = Xdmd[ivar*Nn:(ivar+1)*Nn,itime]\n",
    "        tmp_snap = X[ivar*Nn:(ivar+1)*Nn,itime]\n",
    "\n",
    "    tn   = times_online[itime]*tscale\n",
    "    fig  = plt.figure(figsize=(18,15));\n",
    "    ax   = fig.add_subplot(2, 2, 1)\n",
    "    surf = ax.tripcolor(nodes[:,0], nodes[:,1],elems, tmp, cmap=plt.cm.jet)\n",
    "    ax.set_title('DMD solution: $|u|$ at t={0:1.2f} hrs,\\n $|u|$ range = [{1:5.3g},{2:4.2g}]'.format(tn/3600,\n",
    "                                                                    tmp.min(),tmp.max()),fontsize=16)\n",
    "    plt.axis('off')\n",
    "    plt.colorbar(surf, shrink=0.8,aspect=20, pad = 0.03)\n",
    "\n",
    "\n",
    "    ax   = fig.add_subplot(2, 2, 2)\n",
    "    surf = ax.tripcolor(nodes[:,0], nodes[:,1],elems, tmp_snap, cmap=plt.cm.jet)\n",
    "    ax.set_title('HFM solution: $|u|$ at t={0:1.2f} hrs,\\n $|u|$ range = [{1:5.3g},{2:4.2g}]'.format(tn/3600,\n",
    "                                                                    tmp_snap.min(),tmp_snap.max()),fontsize=16)\n",
    "    plt.axis('off')\n",
    "    plt.colorbar(surf, shrink=0.8,aspect=20, pad = 0.03)\n",
    "\n",
    "    \n",
    "    err = tmp-tmp_snap\n",
    "    rel_err = err/tmp_snap\n",
    "    ax   = fig.add_subplot(2, 2, 3)\n",
    "    surf = ax.tripcolor(nodes[:,0], nodes[:,1],elems, err, cmap=plt.cm.Spectral)\n",
    "    ax.set_title('DMD rel. error: $|u|$ at t={0:1.2f} hrs,\\n rel. err. range = [{1:5.3g},{2:4.2g}]'.format(tn/3600,\n",
    "                                                                    err.min(),err.max()),fontsize=16)\n",
    "    plt.axis('off')\n",
    "    plt.colorbar(surf,shrink=0.8,aspect=20, pad = 0.03)\n",
    "\n"
   ]
  },
  {
   "cell_type": "code",
   "execution_count": null,
   "metadata": {
    "ExecuteTime": {
     "end_time": "2021-03-17T01:47:05.755608Z",
     "start_time": "2021-03-17T01:47:04.754686Z"
    }
   },
   "outputs": [],
   "source": [
    "Nt_plot = np.searchsorted(times_online, times_train[-1])\n",
    "plot_vel_mag(X_true, Xdmd, Nc, Nt_online, nodes, triangles, times_online)"
   ]
  },
  {
   "cell_type": "code",
   "execution_count": null,
   "metadata": {
    "ExecuteTime": {
     "end_time": "2021-03-17T01:47:47.380036Z",
     "start_time": "2021-03-17T01:47:45.684743Z"
    },
    "code_folding": []
   },
   "outputs": [],
   "source": [
    "### Visualize spatial RMS/Relative errors\n",
    "x_inx = times_online*tscale/3600\n",
    "tr_mark = np.searchsorted(times_online, times_train[-1])\n",
    "\n",
    "dmd_rms = DMD.compute_error(X_true, Xdmd, soln_names, metric = 'rms')\n",
    "\n",
    "vstring = {}\n",
    "for key in soln_names:\n",
    "    vstring[key] = var_string(key)\n",
    "    \n",
    "pu.plot_DMD_err(dmd_rms, x_inx, soln_names, vstring, unit='hours' )\n",
    "\n",
    "# os.chdir(figdir)\n",
    "# plt.savefig('%s_dmd_rms_tskip%d_oskip%d_r%d.pdf'%(model,snap_incr,pred_incr,r),bbox_extra_artists=(lg,), bbox_inches='tight')"
   ]
  },
  {
   "cell_type": "code",
   "execution_count": null,
   "metadata": {
    "ExecuteTime": {
     "end_time": "2021-03-01T08:34:52.028997Z",
     "start_time": "2021-03-01T08:33:46.821252Z"
    }
   },
   "outputs": [],
   "source": [
    "# Save the NIROM solutions to disk\n",
    "save_nirom_solutions = False\n",
    "\n",
    "if save_nirom_solutions:\n",
    "    os.chdir(nirom_data_dir)\n",
    "    np.savez_compressed('%s_online_dmd_r%d'%(model,r),dmd=Xdmd, true=X_true,time=times_online,tscale=tscale,r=r,\n",
    "                        interleaved=interleaved_snapshots)\n",
    "\n",
    "    os.chdir(workdir)"
   ]
  },
  {
   "cell_type": "code",
   "execution_count": null,
   "metadata": {
    "ExecuteTime": {
     "end_time": "2021-02-28T07:20:30.497397Z",
     "start_time": "2021-02-28T07:20:30.493977Z"
    }
   },
   "outputs": [],
   "source": [
    "## Saving the ROM model\n",
    "# os.chdir(nirom_data_dir)\n",
    "# if model == 'SD':\n",
    "#     filename='dmd_rom_sandiego'\n",
    "# elif model == 'RED':\n",
    "#     filename='dmd_rom_redriver'\n",
    "# DMD.save_to_disk(filename,DMD)"
   ]
  }
 ],
 "metadata": {
  "kernelspec": {
   "display_name": "Python 3 (ipykernel)",
   "language": "python",
   "name": "python3"
  },
  "language_info": {
   "codemirror_mode": {
    "name": "ipython",
    "version": 3
   },
   "file_extension": ".py",
   "mimetype": "text/x-python",
   "name": "python",
   "nbconvert_exporter": "python",
   "pygments_lexer": "ipython3",
   "version": "3.8.0"
  },
  "latex_envs": {
   "LaTeX_envs_menu_present": true,
   "autoclose": false,
   "autocomplete": true,
   "bibliofile": "biblio.bib",
   "cite_by": "apalike",
   "current_citInitial": 1,
   "eqLabelWithNumbers": true,
   "eqNumInitial": 1,
   "hotkeys": {
    "equation": "Ctrl-E",
    "itemize": "Ctrl-I"
   },
   "labels_anchors": false,
   "latex_user_defs": false,
   "report_style_numbering": false,
   "user_envs_cfg": false
  },
  "varInspector": {
   "cols": {
    "lenName": 16,
    "lenType": 16,
    "lenVar": 40
   },
   "kernels_config": {
    "python": {
     "delete_cmd_postfix": "",
     "delete_cmd_prefix": "del ",
     "library": "var_list.py",
     "varRefreshCmd": "print(var_dic_list())"
    },
    "r": {
     "delete_cmd_postfix": ") ",
     "delete_cmd_prefix": "rm(",
     "library": "var_list.r",
     "varRefreshCmd": "cat(var_dic_list()) "
    }
   },
   "types_to_exclude": [
    "module",
    "function",
    "builtin_function_or_method",
    "instance",
    "_Feature"
   ],
   "window_display": false
  }
 },
 "nbformat": 4,
 "nbformat_minor": 2
}
